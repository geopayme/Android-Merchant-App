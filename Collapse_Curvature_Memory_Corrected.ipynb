{
  "cells": [
    {
      "cell_type": "markdown",
      "metadata": {
        "id": "view-in-github",
        "colab_type": "text"
      },
      "source": [
        "<a href=\"https://colab.research.google.com/github/geopayme/Android-Merchant-App/blob/master/Collapse_Curvature_Memory_Corrected.ipynb\" target=\"_parent\"><img src=\"https://colab.research.google.com/assets/colab-badge.svg\" alt=\"Open In Colab\"/></a>"
      ]
    },
    {
      "cell_type": "markdown",
      "id": "77ad6dd4",
      "metadata": {
        "id": "77ad6dd4"
      },
      "source": [
        "# 🧠 Collapse → Curvature → Memory (Penrose–DGQG–SGVC Simulation)\n",
        "Simulates quantum collapse events triggering curvature ripples (DGQG) and storing memory (SGVC)."
      ]
    },
    {
      "cell_type": "code",
      "execution_count": null,
      "id": "9d1cfa7b",
      "metadata": {
        "id": "9d1cfa7b"
      },
      "outputs": [],
      "source": [
        "import numpy as np\n",
        "import matplotlib.pyplot as plt\n",
        "import matplotlib.animation as animation\n",
        "import ipywidgets as widgets\n",
        "from IPython.display import display\n",
        "\n",
        "# Constants\n",
        "np.random.seed(42)\n",
        "grid_size = 50\n",
        "hbar = 1.0545718e-34\n",
        "\n",
        "def update_curvature(grid, center, t, amplitude=1.0, decay=0.9):\n",
        "    for x in range(grid_size):\n",
        "        for y in range(grid_size):\n",
        "            dx, dy = x - center[0], y - center[1]\n",
        "            distance = np.sqrt(dx**2 + dy**2)\n",
        "            ripple = amplitude * np.exp(-decay * distance) * np.cos(0.5 * distance - 0.1 * t)\n",
        "            grid[x, y] += ripple\n",
        "\n",
        "def update_memory(mem_grid, center):\n",
        "    mem_grid[center] = 1\n",
        "\n",
        "def calculate_collapse_time(mass):\n",
        "    G = 6.67430e-11\n",
        "    r = 1.0\n",
        "    E_G = G * mass**2 / r\n",
        "    return hbar / E_G"
      ]
    },
    {
      "cell_type": "code",
      "execution_count": null,
      "id": "84ed01ce",
      "metadata": {
        "id": "84ed01ce"
      },
      "outputs": [],
      "source": [
        "def run_simulation(mass, num_events):\n",
        "    curvature_grid = np.zeros((grid_size, grid_size))\n",
        "    memory_grid = np.zeros((grid_size, grid_size))\n",
        "\n",
        "    collapse_time = int(calculate_collapse_time(mass))\n",
        "    collapse_points = np.random.randint(5, grid_size - 5, size=(num_events, 2))\n",
        "\n",
        "    fig, ax = plt.subplots(1, 2, figsize=(10, 5))\n",
        "    im1 = ax[0].imshow(curvature_grid, cmap='plasma', vmin=-1, vmax=1)\n",
        "    im2 = ax[1].imshow(memory_grid, cmap='binary', vmin=0, vmax=1)\n",
        "    ax[0].set_title(\"DGQG Curvature Ripple\")\n",
        "    ax[1].set_title(\"SGVC Collapse Memory\")\n",
        "\n",
        "    def animate(t):\n",
        "        # use outer scope arrays\n",
        "        for pt in collapse_points:\n",
        "            update_curvature(curvature_grid, tuple(pt), t)\n",
        "            if t == collapse_time:\n",
        "                update_memory(memory_grid, tuple(pt))\n",
        "        curvature_grid[:] *= 0.99  # decay\n",
        "        im1.set_data(curvature_grid)\n",
        "        im2.set_data(memory_grid)\n",
        "        return [im1, im2]\n",
        "\n",
        "    ani = animation.FuncAnimation(fig, animate, frames=100, interval=100, blit=True)\n",
        "    plt.tight_layout()\n",
        "    plt.show()"
      ]
    },
    {
      "cell_type": "code",
      "execution_count": null,
      "id": "a26cade2",
      "metadata": {
        "id": "a26cade2"
      },
      "outputs": [],
      "source": [
        "mass_slider = widgets.FloatLogSlider(value=1e-17, base=10, min=-30, max=-10, step=0.1, description='Mass (kg)')\n",
        "events_slider = widgets.IntSlider(value=3, min=1, max=10, step=1, description='Collapse Events')\n",
        "\n",
        "ui = widgets.VBox([mass_slider, events_slider])\n",
        "out = widgets.interactive_output(run_simulation, {'mass': mass_slider, 'num_events': events_slider})\n",
        "display(ui, out)"
      ]
    }
  ],
  "metadata": {
    "colab": {
      "provenance": [],
      "include_colab_link": true
    }
  },
  "nbformat": 4,
  "nbformat_minor": 5
}